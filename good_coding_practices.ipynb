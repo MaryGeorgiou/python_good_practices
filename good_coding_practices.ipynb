{
 "cells": [
  {
   "cell_type": "markdown",
   "metadata": {},
   "source": [
    "# Naming 101: Simple rules to create good names. "
   ]
  },
  {
   "cell_type": "code",
   "execution_count": null,
   "metadata": {},
   "outputs": [],
   "source": [
    "'''\n",
    "The following rules and examples are taken from:\n",
    "Martin, Robert C.\n",
    "Clean Code a Handbook of Agile Software Craftmanship.\n",
    "Prentice Hall, 2010.2.\n",
    "'''\n",
    "\n",
    "'''Use Intention-Revealing Names'''\n",
    "# DON'T\n",
    "numF = 10\n",
    "# DO\n",
    "number_of_files = 10\n",
    "\n",
    "'''Avoid disinformation and encodings'''\n",
    "# DON'T\n",
    "accountList = accountGroup()\n",
    "# DO\n",
    "accountGroup = accountGroup()\n",
    "# DON'T\n",
    "l = 1\n",
    "# DO\n",
    "x = 1\n",
    "\n",
    "'''Make meaningful distinctions'''\n",
    "class, class1, klass = 2\n",
    "a1, a2 = 'Hello'\n",
    "\n",
    "'''Use pronounceable names'''\n",
    "# DON'T\n",
    "memory_mngr\n",
    "# DO\n",
    "memory_manager\n",
    "\n",
    "'''Use searchable names'''\n",
    "MAX_DAYS_PER_WEEK = 7\n",
    "\n",
    "'''Avoid encodings where not necessery, extra burden (not including domain names)'''\n",
    "# DON'T\n",
    "MI = muonIdentifier()\n",
    "# DO\n",
    "muon_identifier = muonIdentifier()\n",
    "\n",
    "\n",
    "'''One word per concept'''\n",
    "fetch, retrieve, get\n",
    "\n",
    "'''Use descriptive names'''\n",
    "# DONT\n",
    "evaluation(), clean_text()\n",
    "# DO\n",
    "precision(), delete_special_characters()\n",
    "\n",
    "\n",
    "'''\n",
    "\"Single Responsibility Principle\"\n",
    "\"...clarity is king..\"\n",
    "'''"
   ]
  },
  {
   "cell_type": "markdown",
   "metadata": {},
   "source": [
    "# PEP8 LINKS\n",
    "1. [PEP-8](https://www.python.org/dev/peps/pep-0008/)\n",
    "2. [PEP-8 cheatsheet](https://gist.github.com/RichardBronosky/454964087739a449da04)\n",
    "3. [PEP257 docstrings](https://www.python.org/dev/peps/pep-0257/)\n",
    "4. [JupyterLab code formatter + Python auto formatters](https://jupyterlab-code-formatter.readthedocs.io/en/latest/index.html)"
   ]
  },
  {
   "cell_type": "markdown",
   "metadata": {},
   "source": [
    "# PEP8 EXAMPLE"
   ]
  },
  {
   "cell_type": "code",
   "execution_count": null,
   "metadata": {
    "scrolled": true
   },
   "outputs": [],
   "source": [
    "import os\n",
    "import sys\n",
    "from operator import add, eq\n",
    "\n",
    "list_of_all_words = []\n",
    "word_frequencies = []\n",
    "\n",
    "def sentence_splitter(sentence):\n",
    "        world_list = sentence.split()\n",
    "        return world_list\n",
    "\n",
    "with open('example_text.txt') as file:\n",
    "    line = file.readline()\n",
    "    while line:\n",
    "        split_line = sentence_splitter(line)\n",
    "        list_of_all_words.extend(split_line)\n",
    "        line = file.readline()    \n",
    "    \n",
    "    for word in list_of_all_words:\n",
    "        word_frequencies.append(list_of_all_words.count(word))\n",
    "    a = list(zip(list_of_all_words, word_frequencies))"
   ]
  },
  {
   "cell_type": "code",
   "execution_count": null,
   "metadata": {},
   "outputs": [],
   "source": [
    "a"
   ]
  },
  {
   "cell_type": "code",
   "execution_count": null,
   "metadata": {},
   "outputs": [],
   "source": [
    "# With autopep8\n",
    "import os\n",
    "import sys\n",
    "from operator import add, eq\n",
    "\n",
    "all = []\n",
    "wfr = []\n",
    "\n",
    "\n",
    "def Separator(n):\n",
    "    x = n.split()\n",
    "    return x\n",
    "\n",
    "\n",
    "with open('example_text.txt') as fp:\n",
    "    LINE = fp.readline()\n",
    "\n",
    "    while LINE:\n",
    "        LINE = fp.readline()\n",
    "        split_line = Separator(LINE)\n",
    "        all.extend(split_line)\n",
    "\n",
    "    for w in all:\n",
    "        wfr.append(all.count(w))\n",
    "    a = list(zip(all, wfr))"
   ]
  },
  {
   "cell_type": "markdown",
   "metadata": {},
   "source": [
    "# Exceptions\n",
    "1. [Errors and Exceptions](https://docs.python.org/3/tutorial/errors.html)"
   ]
  },
  {
   "cell_type": "code",
   "execution_count": 17,
   "metadata": {},
   "outputs": [
    {
     "name": "stdout",
     "output_type": "stream",
     "text": [
      "Oppps\n",
      "Ooops\n",
      "Oops again.\n"
     ]
    }
   ],
   "source": [
    "from operator import truediv\n",
    "divisors = [0, 1, 2, 3, 4, 5, 6]\n",
    "DIVIDENT = 10\n",
    "\n",
    "for divisor in divisors:\n",
    "    try:\n",
    "        result = truediv(DIVIDENT, divisor)\n",
    "    except ZeroDivisionError:\n",
    "        print(\"Oppps\")\n",
    "\n",
    "# Print the element at the 8th place of the array divisors\n",
    "try:\n",
    "    print(divisors[10])\n",
    "except IndexError:\n",
    "    print(\"Ooops\")\n",
    "\n",
    "# Print all the lines of a file.\n",
    "try:\n",
    "    file = open('example_txt.txt')\n",
    "    text_lines = file.readlines()\n",
    "    print(text_lines[0])\n",
    "except FileNotFoundError, BaseException, BufferError\n",
    ":\n",
    "    print(\"Oops again.\")"
   ]
  },
  {
   "cell_type": "markdown",
   "metadata": {},
   "source": [
    "# Logging\n",
    "1. [Logging HOWTO](https://docs.python.org/3/howto/logging.html)\n",
    "2. [Python logging tutorial](https://realpython.com/python-logging/)\n",
    "\n",
    "### Logging levels, in order of increasing severity:\n",
    "1. DEBUG\n",
    "2. INFO\n",
    "3. WARNING\n",
    "4. ERROR\n",
    "5. CRITICAL"
   ]
  },
  {
   "cell_type": "code",
   "execution_count": 1,
   "metadata": {},
   "outputs": [],
   "source": [
    "# Print logs on screen\n",
    "import logging\n",
    "import sys\n",
    "\n",
    "logging.basicConfig(level=logging.WARNING)\n",
    "logger = logging.getLogger(\"my app\")"
   ]
  },
  {
   "cell_type": "code",
   "execution_count": 1,
   "metadata": {},
   "outputs": [],
   "source": [
    "#Log in file\n",
    "import logging\n",
    "import sys\n",
    "\n",
    "logger = logging.getLogger('__name__')\n",
    "log_handler = logging.FileHandler('test.log')\n",
    "formatter = logging.Formatter('%(asctime)s %(levelname)s %(message)s')\n",
    "log_handler.setFormatter(formatter)\n",
    "logger.addHandler(log_handler)\n",
    "logger.setLevel(logging.DEBUG)"
   ]
  },
  {
   "cell_type": "code",
   "execution_count": 2,
   "metadata": {},
   "outputs": [
    {
     "ename": "SyntaxError",
     "evalue": "EOF while scanning triple-quoted string literal (<ipython-input-2-59cb821806b5>, line 9)",
     "output_type": "error",
     "traceback": [
      "\u001b[0;36m  File \u001b[0;32m\"<ipython-input-2-59cb821806b5>\"\u001b[0;36m, line \u001b[0;32m9\u001b[0m\n\u001b[0;31m    logger.error(\"\"\"there was division by zero\")\u001b[0m\n\u001b[0m                                                ^\u001b[0m\n\u001b[0;31mSyntaxError\u001b[0m\u001b[0;31m:\u001b[0m EOF while scanning triple-quoted string literal\n"
     ]
    }
   ],
   "source": [
    "from operator import truediv\n",
    "divisors = [0, 1, 2, 3, 4, 5, 6]\n",
    "DIVIDENT = 10\n",
    "\n",
    "for divisor in divisors:\n",
    "    try:\n",
    "        truediv(DIVIDENT, divisor)\n",
    "    except ZeroDivisionError:\n",
    "        logger.error(\"\"\"there was division by zero\")\n"
   ]
  },
  {
   "cell_type": "markdown",
   "metadata": {},
   "source": [
    "# Sending Emails \n",
    "1. [Sending emails with Python tutorial](https://realpython.com/python-send-email/#starting-a-secure-smtp-connection)"
   ]
  },
  {
   "cell_type": "code",
   "execution_count": 7,
   "metadata": {},
   "outputs": [],
   "source": [
    "\"\"\"Use a 'throwaway account'\n",
    "as 'sender' for this task, due\n",
    "to vulnerability issues.\n",
    "https://myaccount.google.com/lesssecureapps?pli=1\"\"\"\n",
    "import smtplib\n",
    "import ssl\n",
    "from getpass import getpass\n",
    "\n",
    "\n",
    "def send_mail(sender_email, receiver_email, message):\n",
    "    # To create an encrypted_connection\n",
    "    ssl_context = ssl.create_default_context()\n",
    "\n",
    "    password = getpass()\n",
    "    try:\n",
    "        with smtplib.SMTP_SSL(\"smtp.gmail.com\", 465, context = ssl.create_default_context()) as server:\n",
    "            server.login(\"error.in.your.script@gmail.com\", password)\n",
    "            server.sendmail(sender_email, receiver_email, message)\n",
    "    except smtplib.SMTPAuthenticationError:\n",
    "        print(\"Wrong password or sender email.\")"
   ]
  },
  {
   "cell_type": "code",
   "execution_count": 8,
   "metadata": {},
   "outputs": [
    {
     "name": "stdin",
     "output_type": "stream",
     "text": [
      " ········\n"
     ]
    }
   ],
   "source": [
    "sender_email = \"error.in.your.script@gmail.com\"\n",
    "receiver_email = \"trillian.zz9za@gmail.com\"\n",
    "message = \"\"\"Subject: Hi there!!!\n",
    "\n",
    "Your script has stopped!\n",
    "Take a look in jupyter lab in {server}\"\"\".format(server=\"myserver\")\n",
    "\n",
    "send_mail(sender_email, receiver_email, message)\n"
   ]
  },
  {
   "cell_type": "markdown",
   "metadata": {},
   "source": [
    "# UNIT TESTS\n",
    "1. [unittest Documentation](https://docs.python.org/3/library/unittest.html)\n",
    "2. [Testing your code - Hitchhiker's guide to Python](https://docs.python-guide.org/writing/tests/)"
   ]
  },
  {
   "cell_type": "markdown",
   "metadata": {},
   "source": [
    "Compute the Mean Squared Error (MSE) function and make sure that it works as expected.\n",
    "\n",
    "$MSE = \\frac{1}{N}\\Sigma_{i=1}^{N}{(y_i -y'_i)}^2$\n",
    "when $y_i == y'_i$ then $MSE=0$\n"
   ]
  },
  {
   "cell_type": "code",
   "execution_count": 23,
   "metadata": {},
   "outputs": [],
   "source": [
    "import numpy as np\n",
    "from operator import truediv, pow\n",
    "from sklearn.metrics import mean_squared_error as mse\n",
    "\n",
    "\n",
    "def mean_squared_error(y, y_pred):\n",
    "    try:\n",
    "        vec_diff = np.subtract(y, y_pred)\n",
    "        power = np.power(vec_diff, 2)\n",
    "        vec_sum = np.sum(power)\n",
    "        mse = np.divide(vec_sum, np.size(y))\n",
    "        return mse\n",
    "    except ValueError:\n",
    "        return None"
   ]
  },
  {
   "cell_type": "code",
   "execution_count": 28,
   "metadata": {},
   "outputs": [],
   "source": [
    "import unittest\n",
    "\n",
    "\n",
    "class TestMse(unittest.TestCase):\n",
    "    \"\"\"Test mean_squeared_error function.\"\"\"\n",
    "\n",
    "    def test_equal_vectors(self):\n",
    "        mse = mean_squared_error([100, 100, 100], [100, 100, 100])\n",
    "        self.assertEqual(mse, 0.0)\n",
    "        \n",
    "    def test_empty_vector_input(self):\n",
    "        mse = mean_squared_error([],[1,1,1])\n",
    "        self.assertEqual(mse, None)\n",
    "        \n",
    "    def test_different_lenght_vectors(self):\n",
    "        mse = mean_squared_error([1,1],[1,1,1])\n",
    "        self.assertEqual(mse,None)"
   ]
  },
  {
   "cell_type": "code",
   "execution_count": 29,
   "metadata": {},
   "outputs": [
    {
     "name": "stderr",
     "output_type": "stream",
     "text": [
      "...\n",
      "----------------------------------------------------------------------\n",
      "Ran 3 tests in 0.006s\n",
      "\n",
      "OK\n"
     ]
    }
   ],
   "source": [
    "if __name__ == '__main__':\n",
    "    unittest.main(argv=[''], exit=False)"
   ]
  },
  {
   "cell_type": "markdown",
   "metadata": {},
   "source": [
    "# Virtual envirorments \n",
    "### or how to not break the dependencies of your projects.\n",
    "1. [Virtual Envirorments Documentation](https://docs.python.org/3/tutorial/venv.html)\n",
    "2. [virtualenv](https://virtualenv.pypa.io/en/latest/)"
   ]
  },
  {
   "cell_type": "markdown",
   "metadata": {},
   "source": [
    "```bash\n",
    "sudo pip3 install virtualenv\n",
    "mkdir test_project\n",
    "cd test_project\n",
    "vim test.py\n",
    "```\n",
    "paste in test.py the file the following lines:\n",
    "```python\n",
    "try:\n",
    "    import numpy\n",
    "    import pandas\n",
    "    import requests\n",
    "    import sklearn\n",
    "    import scipy\n",
    "    import urllib3\n",
    "except ImportError as error:\n",
    "    print(error.__class__.__name__ + \": \" + error.message)\n",
    "``` \n",
    "```bash\n",
    "virtualenv [directory/of/environment]\n",
    "source [directory/of/environment]/bin/activate\n",
    "python3 test.py\n",
    "deactivate\n",
    "python3 test.py \n",
    "```\n",
    "\n",
    "```bash\n",
    "python3 pip install -r requirements.txt\n",
    "```\n",
    "\n",
    "\n",
    "Python virtual envirorments cannot been copied/transferred from one directory to another (virtualenv does provide this but it's still an experimental stage feature). This means if you need to deploy your project in another place you need to re-create the virtual envirorment and install again the packages in the requirements.txt. "
   ]
  },
  {
   "cell_type": "markdown",
   "metadata": {},
   "source": [
    "# Profilers\n",
    "1. [PyDocs on profilers](https://docs.python.org/3.8/library/profile.html)\n",
    "2. [Cool article on making your python code faster!](https://towardsdatascience.com/making-python-programs-blazingly-fast-c1cd79bd1b32)"
   ]
  },
  {
   "cell_type": "code",
   "execution_count": null,
   "metadata": {},
   "outputs": [],
   "source": []
  }
 ],
 "metadata": {
  "kernelspec": {
   "display_name": "Python 3",
   "language": "python",
   "name": "python3"
  },
  "language_info": {
   "codemirror_mode": {
    "name": "ipython",
    "version": 3
   },
   "file_extension": ".py",
   "mimetype": "text/x-python",
   "name": "python",
   "nbconvert_exporter": "python",
   "pygments_lexer": "ipython3",
   "version": "3.6.9"
  }
 },
 "nbformat": 4,
 "nbformat_minor": 4
}
